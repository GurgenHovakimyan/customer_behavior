{
  "nbformat": 4,
  "nbformat_minor": 0,
  "metadata": {
    "colab": {
      "name": "Conjoint_analysis.ipynb",
      "provenance": [],
      "collapsed_sections": []
    },
    "kernelspec": {
      "name": "python3",
      "display_name": "Python 3"
    },
    "language_info": {
      "name": "python"
    }
  },
  "cells": [
    {
      "cell_type": "code",
      "metadata": {
        "colab": {
          "base_uri": "https://localhost:8080/"
        },
        "id": "qjnFED0QMYiQ",
        "outputId": "6d123dd2-1bc9-43d2-9c96-fcbe41887854"
      },
      "source": [
        "import numpy as np\n",
        "import pandas as pd\n",
        "import statsmodels.api as sm\n",
        "import seaborn as sns\n",
        "import matplotlib.pyplot as plt"
      ],
      "execution_count": null,
      "outputs": [
        {
          "output_type": "stream",
          "text": [
            "/usr/local/lib/python3.7/dist-packages/statsmodels/tools/_testing.py:19: FutureWarning: pandas.util.testing is deprecated. Use the functions in the public API at pandas.testing instead.\n",
            "  import pandas.util.testing as tm\n"
          ],
          "name": "stderr"
        }
      ]
    },
    {
      "cell_type": "code",
      "metadata": {
        "id": "hfU3QR_BMc-s"
      },
      "source": [
        "df = pd.read_csv(\"sportscar_choice_long.csv\")"
      ],
      "execution_count": null,
      "outputs": []
    },
    {
      "cell_type": "code",
      "metadata": {
        "colab": {
          "base_uri": "https://localhost:8080/",
          "height": 204
        },
        "id": "491t2TQJMwFq",
        "outputId": "65b08245-5d76-49d3-e80c-0e5c83e07614"
      },
      "source": [
        "df.head()"
      ],
      "execution_count": null,
      "outputs": [
        {
          "output_type": "execute_result",
          "data": {
            "text/html": [
              "<div>\n",
              "<style scoped>\n",
              "    .dataframe tbody tr th:only-of-type {\n",
              "        vertical-align: middle;\n",
              "    }\n",
              "\n",
              "    .dataframe tbody tr th {\n",
              "        vertical-align: top;\n",
              "    }\n",
              "\n",
              "    .dataframe thead th {\n",
              "        text-align: right;\n",
              "    }\n",
              "</style>\n",
              "<table border=\"1\" class=\"dataframe\">\n",
              "  <thead>\n",
              "    <tr style=\"text-align: right;\">\n",
              "      <th></th>\n",
              "      <th>resp_id</th>\n",
              "      <th>ques</th>\n",
              "      <th>alt</th>\n",
              "      <th>segment</th>\n",
              "      <th>seat</th>\n",
              "      <th>trans</th>\n",
              "      <th>convert</th>\n",
              "      <th>price</th>\n",
              "      <th>choice</th>\n",
              "    </tr>\n",
              "  </thead>\n",
              "  <tbody>\n",
              "    <tr>\n",
              "      <th>0</th>\n",
              "      <td>1</td>\n",
              "      <td>1</td>\n",
              "      <td>1</td>\n",
              "      <td>basic</td>\n",
              "      <td>2</td>\n",
              "      <td>manual</td>\n",
              "      <td>yes</td>\n",
              "      <td>35</td>\n",
              "      <td>0</td>\n",
              "    </tr>\n",
              "    <tr>\n",
              "      <th>1</th>\n",
              "      <td>1</td>\n",
              "      <td>1</td>\n",
              "      <td>2</td>\n",
              "      <td>basic</td>\n",
              "      <td>5</td>\n",
              "      <td>auto</td>\n",
              "      <td>no</td>\n",
              "      <td>40</td>\n",
              "      <td>0</td>\n",
              "    </tr>\n",
              "    <tr>\n",
              "      <th>2</th>\n",
              "      <td>1</td>\n",
              "      <td>1</td>\n",
              "      <td>3</td>\n",
              "      <td>basic</td>\n",
              "      <td>5</td>\n",
              "      <td>auto</td>\n",
              "      <td>no</td>\n",
              "      <td>30</td>\n",
              "      <td>1</td>\n",
              "    </tr>\n",
              "    <tr>\n",
              "      <th>3</th>\n",
              "      <td>1</td>\n",
              "      <td>2</td>\n",
              "      <td>1</td>\n",
              "      <td>basic</td>\n",
              "      <td>5</td>\n",
              "      <td>manual</td>\n",
              "      <td>no</td>\n",
              "      <td>35</td>\n",
              "      <td>0</td>\n",
              "    </tr>\n",
              "    <tr>\n",
              "      <th>4</th>\n",
              "      <td>1</td>\n",
              "      <td>2</td>\n",
              "      <td>2</td>\n",
              "      <td>basic</td>\n",
              "      <td>2</td>\n",
              "      <td>manual</td>\n",
              "      <td>no</td>\n",
              "      <td>30</td>\n",
              "      <td>1</td>\n",
              "    </tr>\n",
              "  </tbody>\n",
              "</table>\n",
              "</div>"
            ],
            "text/plain": [
              "   resp_id  ques  alt segment  seat   trans convert  price  choice\n",
              "0        1     1    1   basic     2  manual     yes     35       0\n",
              "1        1     1    2   basic     5    auto      no     40       0\n",
              "2        1     1    3   basic     5    auto      no     30       1\n",
              "3        1     2    1   basic     5  manual      no     35       0\n",
              "4        1     2    2   basic     2  manual      no     30       1"
            ]
          },
          "metadata": {
            "tags": []
          },
          "execution_count": 6
        }
      ]
    },
    {
      "cell_type": "code",
      "metadata": {
        "colab": {
          "base_uri": "https://localhost:8080/",
          "height": 297
        },
        "id": "vBlotRJEMyoS",
        "outputId": "8cafab2a-b70f-481d-be52-902073ce2bb4"
      },
      "source": [
        "df.describe()"
      ],
      "execution_count": null,
      "outputs": [
        {
          "output_type": "execute_result",
          "data": {
            "text/html": [
              "<div>\n",
              "<style scoped>\n",
              "    .dataframe tbody tr th:only-of-type {\n",
              "        vertical-align: middle;\n",
              "    }\n",
              "\n",
              "    .dataframe tbody tr th {\n",
              "        vertical-align: top;\n",
              "    }\n",
              "\n",
              "    .dataframe thead th {\n",
              "        text-align: right;\n",
              "    }\n",
              "</style>\n",
              "<table border=\"1\" class=\"dataframe\">\n",
              "  <thead>\n",
              "    <tr style=\"text-align: right;\">\n",
              "      <th></th>\n",
              "      <th>resp_id</th>\n",
              "      <th>ques</th>\n",
              "      <th>alt</th>\n",
              "      <th>seat</th>\n",
              "      <th>price</th>\n",
              "      <th>choice</th>\n",
              "    </tr>\n",
              "  </thead>\n",
              "  <tbody>\n",
              "    <tr>\n",
              "      <th>count</th>\n",
              "      <td>6000.000000</td>\n",
              "      <td>6000.000000</td>\n",
              "      <td>6000.000000</td>\n",
              "      <td>6000.000000</td>\n",
              "      <td>6000.000000</td>\n",
              "      <td>6000.000000</td>\n",
              "    </tr>\n",
              "    <tr>\n",
              "      <th>mean</th>\n",
              "      <td>100.500000</td>\n",
              "      <td>5.500000</td>\n",
              "      <td>2.000000</td>\n",
              "      <td>3.659167</td>\n",
              "      <td>34.977500</td>\n",
              "      <td>0.333333</td>\n",
              "    </tr>\n",
              "    <tr>\n",
              "      <th>std</th>\n",
              "      <td>57.739117</td>\n",
              "      <td>2.872521</td>\n",
              "      <td>0.816565</td>\n",
              "      <td>1.247501</td>\n",
              "      <td>4.077143</td>\n",
              "      <td>0.471444</td>\n",
              "    </tr>\n",
              "    <tr>\n",
              "      <th>min</th>\n",
              "      <td>1.000000</td>\n",
              "      <td>1.000000</td>\n",
              "      <td>1.000000</td>\n",
              "      <td>2.000000</td>\n",
              "      <td>30.000000</td>\n",
              "      <td>0.000000</td>\n",
              "    </tr>\n",
              "    <tr>\n",
              "      <th>25%</th>\n",
              "      <td>50.750000</td>\n",
              "      <td>3.000000</td>\n",
              "      <td>1.000000</td>\n",
              "      <td>2.000000</td>\n",
              "      <td>30.000000</td>\n",
              "      <td>0.000000</td>\n",
              "    </tr>\n",
              "    <tr>\n",
              "      <th>50%</th>\n",
              "      <td>100.500000</td>\n",
              "      <td>5.500000</td>\n",
              "      <td>2.000000</td>\n",
              "      <td>4.000000</td>\n",
              "      <td>35.000000</td>\n",
              "      <td>0.000000</td>\n",
              "    </tr>\n",
              "    <tr>\n",
              "      <th>75%</th>\n",
              "      <td>150.250000</td>\n",
              "      <td>8.000000</td>\n",
              "      <td>3.000000</td>\n",
              "      <td>5.000000</td>\n",
              "      <td>40.000000</td>\n",
              "      <td>1.000000</td>\n",
              "    </tr>\n",
              "    <tr>\n",
              "      <th>max</th>\n",
              "      <td>200.000000</td>\n",
              "      <td>10.000000</td>\n",
              "      <td>3.000000</td>\n",
              "      <td>5.000000</td>\n",
              "      <td>40.000000</td>\n",
              "      <td>1.000000</td>\n",
              "    </tr>\n",
              "  </tbody>\n",
              "</table>\n",
              "</div>"
            ],
            "text/plain": [
              "           resp_id         ques  ...        price       choice\n",
              "count  6000.000000  6000.000000  ...  6000.000000  6000.000000\n",
              "mean    100.500000     5.500000  ...    34.977500     0.333333\n",
              "std      57.739117     2.872521  ...     4.077143     0.471444\n",
              "min       1.000000     1.000000  ...    30.000000     0.000000\n",
              "25%      50.750000     3.000000  ...    30.000000     0.000000\n",
              "50%     100.500000     5.500000  ...    35.000000     0.000000\n",
              "75%     150.250000     8.000000  ...    40.000000     1.000000\n",
              "max     200.000000    10.000000  ...    40.000000     1.000000\n",
              "\n",
              "[8 rows x 6 columns]"
            ]
          },
          "metadata": {
            "tags": []
          },
          "execution_count": 7
        }
      ]
    },
    {
      "cell_type": "code",
      "metadata": {
        "colab": {
          "base_uri": "https://localhost:8080/"
        },
        "id": "0nDs_zl-M0gS",
        "outputId": "6d5eb4da-8394-492f-828e-ff65fed21d59"
      },
      "source": [
        "df.seat.value_counts()"
      ],
      "execution_count": null,
      "outputs": [
        {
          "output_type": "execute_result",
          "data": {
            "text/plain": [
              "2    2013\n",
              "4    2006\n",
              "5    1981\n",
              "Name: seat, dtype: int64"
            ]
          },
          "metadata": {
            "tags": []
          },
          "execution_count": 9
        }
      ]
    },
    {
      "cell_type": "code",
      "metadata": {
        "colab": {
          "base_uri": "https://localhost:8080/"
        },
        "id": "F6FMz5cYOTW6",
        "outputId": "c82824d2-076a-4526-af6a-c2b92e6c4ba9"
      },
      "source": [
        "df.choice.value_counts()"
      ],
      "execution_count": null,
      "outputs": [
        {
          "output_type": "execute_result",
          "data": {
            "text/plain": [
              "0    4000\n",
              "1    2000\n",
              "Name: choice, dtype: int64"
            ]
          },
          "metadata": {
            "tags": []
          },
          "execution_count": 10
        }
      ]
    },
    {
      "cell_type": "code",
      "metadata": {
        "colab": {
          "base_uri": "https://localhost:8080/"
        },
        "id": "gElANBnxOXef",
        "outputId": "7d14ba25-724c-49f3-9abb-572777a46fc7"
      },
      "source": [
        "df.trans.value_counts()"
      ],
      "execution_count": null,
      "outputs": [
        {
          "output_type": "execute_result",
          "data": {
            "text/plain": [
              "auto      3001\n",
              "manual    2999\n",
              "Name: trans, dtype: int64"
            ]
          },
          "metadata": {
            "tags": []
          },
          "execution_count": 11
        }
      ]
    },
    {
      "cell_type": "code",
      "metadata": {
        "colab": {
          "base_uri": "https://localhost:8080/"
        },
        "id": "3k4VBwoFOfDw",
        "outputId": "8e648f60-2c5d-40db-8927-48f40bad15b6"
      },
      "source": [
        "df.segment.value_counts()"
      ],
      "execution_count": null,
      "outputs": [
        {
          "output_type": "execute_result",
          "data": {
            "text/plain": [
              "basic    3840\n",
              "fun      1530\n",
              "racer     630\n",
              "Name: segment, dtype: int64"
            ]
          },
          "metadata": {
            "tags": []
          },
          "execution_count": 12
        }
      ]
    },
    {
      "cell_type": "code",
      "metadata": {
        "colab": {
          "base_uri": "https://localhost:8080/"
        },
        "id": "oIBF8GWtOi6o",
        "outputId": "08b4152f-86bf-41de-b88d-ec0fdcfe6e7d"
      },
      "source": [
        "df.alt.value_counts()"
      ],
      "execution_count": null,
      "outputs": [
        {
          "output_type": "execute_result",
          "data": {
            "text/plain": [
              "3    2000\n",
              "2    2000\n",
              "1    2000\n",
              "Name: alt, dtype: int64"
            ]
          },
          "metadata": {
            "tags": []
          },
          "execution_count": 13
        }
      ]
    },
    {
      "cell_type": "code",
      "metadata": {
        "id": "fhzW52MeO5AR",
        "colab": {
          "base_uri": "https://localhost:8080/"
        },
        "outputId": "36cc50cd-ed70-4123-9d88-111947fc9958"
      },
      "source": [
        "df.price.value_counts()"
      ],
      "execution_count": null,
      "outputs": [
        {
          "output_type": "execute_result",
          "data": {
            "text/plain": [
              "35    2011\n",
              "30    2008\n",
              "40    1981\n",
              "Name: price, dtype: int64"
            ]
          },
          "metadata": {
            "tags": []
          },
          "execution_count": 15
        }
      ]
    },
    {
      "cell_type": "code",
      "metadata": {
        "colab": {
          "base_uri": "https://localhost:8080/"
        },
        "id": "lpmkRbMLOm5I",
        "outputId": "3ccf41f4-6cea-4bfc-ac41-238bed9d168d"
      },
      "source": [
        "df.isnull().sum()"
      ],
      "execution_count": null,
      "outputs": [
        {
          "output_type": "execute_result",
          "data": {
            "text/plain": [
              "resp_id    0\n",
              "ques       0\n",
              "alt        0\n",
              "segment    0\n",
              "seat       0\n",
              "trans      0\n",
              "convert    0\n",
              "price      0\n",
              "choice     0\n",
              "dtype: int64"
            ]
          },
          "metadata": {
            "tags": []
          },
          "execution_count": 14
        }
      ]
    },
    {
      "cell_type": "code",
      "metadata": {
        "id": "duc3KVdzOu-f"
      },
      "source": [
        "y = df[\"choice\"]\n",
        "x = df[[x for x in df.columns if x != 'choice' and x != 'resp_id' and x != 'ques']]"
      ],
      "execution_count": 35,
      "outputs": []
    },
    {
      "cell_type": "code",
      "metadata": {
        "colab": {
          "base_uri": "https://localhost:8080/",
          "height": 204
        },
        "id": "NGkCjbHTZhS8",
        "outputId": "151e47ca-2a0a-4d05-86f8-0a8c3e052c0c"
      },
      "source": [
        "xdum = pd.get_dummies(x, columns=[c for c in x.columns if c != 'choice'])\n",
        "xdum.head()"
      ],
      "execution_count": 36,
      "outputs": [
        {
          "output_type": "execute_result",
          "data": {
            "text/html": [
              "<div>\n",
              "<style scoped>\n",
              "    .dataframe tbody tr th:only-of-type {\n",
              "        vertical-align: middle;\n",
              "    }\n",
              "\n",
              "    .dataframe tbody tr th {\n",
              "        vertical-align: top;\n",
              "    }\n",
              "\n",
              "    .dataframe thead th {\n",
              "        text-align: right;\n",
              "    }\n",
              "</style>\n",
              "<table border=\"1\" class=\"dataframe\">\n",
              "  <thead>\n",
              "    <tr style=\"text-align: right;\">\n",
              "      <th></th>\n",
              "      <th>alt_1</th>\n",
              "      <th>alt_2</th>\n",
              "      <th>alt_3</th>\n",
              "      <th>segment_basic</th>\n",
              "      <th>segment_fun</th>\n",
              "      <th>segment_racer</th>\n",
              "      <th>seat_2</th>\n",
              "      <th>seat_4</th>\n",
              "      <th>seat_5</th>\n",
              "      <th>trans_auto</th>\n",
              "      <th>trans_manual</th>\n",
              "      <th>convert_no</th>\n",
              "      <th>convert_yes</th>\n",
              "      <th>price_30</th>\n",
              "      <th>price_35</th>\n",
              "      <th>price_40</th>\n",
              "    </tr>\n",
              "  </thead>\n",
              "  <tbody>\n",
              "    <tr>\n",
              "      <th>0</th>\n",
              "      <td>1</td>\n",
              "      <td>0</td>\n",
              "      <td>0</td>\n",
              "      <td>1</td>\n",
              "      <td>0</td>\n",
              "      <td>0</td>\n",
              "      <td>1</td>\n",
              "      <td>0</td>\n",
              "      <td>0</td>\n",
              "      <td>0</td>\n",
              "      <td>1</td>\n",
              "      <td>0</td>\n",
              "      <td>1</td>\n",
              "      <td>0</td>\n",
              "      <td>1</td>\n",
              "      <td>0</td>\n",
              "    </tr>\n",
              "    <tr>\n",
              "      <th>1</th>\n",
              "      <td>0</td>\n",
              "      <td>1</td>\n",
              "      <td>0</td>\n",
              "      <td>1</td>\n",
              "      <td>0</td>\n",
              "      <td>0</td>\n",
              "      <td>0</td>\n",
              "      <td>0</td>\n",
              "      <td>1</td>\n",
              "      <td>1</td>\n",
              "      <td>0</td>\n",
              "      <td>1</td>\n",
              "      <td>0</td>\n",
              "      <td>0</td>\n",
              "      <td>0</td>\n",
              "      <td>1</td>\n",
              "    </tr>\n",
              "    <tr>\n",
              "      <th>2</th>\n",
              "      <td>0</td>\n",
              "      <td>0</td>\n",
              "      <td>1</td>\n",
              "      <td>1</td>\n",
              "      <td>0</td>\n",
              "      <td>0</td>\n",
              "      <td>0</td>\n",
              "      <td>0</td>\n",
              "      <td>1</td>\n",
              "      <td>1</td>\n",
              "      <td>0</td>\n",
              "      <td>1</td>\n",
              "      <td>0</td>\n",
              "      <td>1</td>\n",
              "      <td>0</td>\n",
              "      <td>0</td>\n",
              "    </tr>\n",
              "    <tr>\n",
              "      <th>3</th>\n",
              "      <td>1</td>\n",
              "      <td>0</td>\n",
              "      <td>0</td>\n",
              "      <td>1</td>\n",
              "      <td>0</td>\n",
              "      <td>0</td>\n",
              "      <td>0</td>\n",
              "      <td>0</td>\n",
              "      <td>1</td>\n",
              "      <td>0</td>\n",
              "      <td>1</td>\n",
              "      <td>1</td>\n",
              "      <td>0</td>\n",
              "      <td>0</td>\n",
              "      <td>1</td>\n",
              "      <td>0</td>\n",
              "    </tr>\n",
              "    <tr>\n",
              "      <th>4</th>\n",
              "      <td>0</td>\n",
              "      <td>1</td>\n",
              "      <td>0</td>\n",
              "      <td>1</td>\n",
              "      <td>0</td>\n",
              "      <td>0</td>\n",
              "      <td>1</td>\n",
              "      <td>0</td>\n",
              "      <td>0</td>\n",
              "      <td>0</td>\n",
              "      <td>1</td>\n",
              "      <td>1</td>\n",
              "      <td>0</td>\n",
              "      <td>1</td>\n",
              "      <td>0</td>\n",
              "      <td>0</td>\n",
              "    </tr>\n",
              "  </tbody>\n",
              "</table>\n",
              "</div>"
            ],
            "text/plain": [
              "   alt_1  alt_2  alt_3  ...  price_30  price_35  price_40\n",
              "0      1      0      0  ...         0         1         0\n",
              "1      0      1      0  ...         0         0         1\n",
              "2      0      0      1  ...         1         0         0\n",
              "3      1      0      0  ...         0         1         0\n",
              "4      0      1      0  ...         1         0         0\n",
              "\n",
              "[5 rows x 16 columns]"
            ]
          },
          "metadata": {
            "tags": []
          },
          "execution_count": 36
        }
      ]
    },
    {
      "cell_type": "code",
      "metadata": {
        "colab": {
          "base_uri": "https://localhost:8080/",
          "height": 772
        },
        "id": "IKlao6XZZnAi",
        "outputId": "ece13590-e0a4-49d6-db97-71544e62e96b"
      },
      "source": [
        "res = sm.OLS(y, xdum, family=sm.families.Binomial()).fit()\n",
        "res.summary()"
      ],
      "execution_count": 37,
      "outputs": [
        {
          "output_type": "execute_result",
          "data": {
            "text/html": [
              "<table class=\"simpletable\">\n",
              "<caption>OLS Regression Results</caption>\n",
              "<tr>\n",
              "  <th>Dep. Variable:</th>         <td>choice</td>      <th>  R-squared:         </th> <td>   0.148</td> \n",
              "</tr>\n",
              "<tr>\n",
              "  <th>Model:</th>                   <td>OLS</td>       <th>  Adj. R-squared:    </th> <td>   0.147</td> \n",
              "</tr>\n",
              "<tr>\n",
              "  <th>Method:</th>             <td>Least Squares</td>  <th>  F-statistic:       </th> <td>   104.0</td> \n",
              "</tr>\n",
              "<tr>\n",
              "  <th>Date:</th>             <td>Fri, 30 Apr 2021</td> <th>  Prob (F-statistic):</th> <td>8.74e-200</td>\n",
              "</tr>\n",
              "<tr>\n",
              "  <th>Time:</th>                 <td>10:54:02</td>     <th>  Log-Likelihood:    </th> <td> -3521.0</td> \n",
              "</tr>\n",
              "<tr>\n",
              "  <th>No. Observations:</th>      <td>  6000</td>      <th>  AIC:               </th> <td>   7064.</td> \n",
              "</tr>\n",
              "<tr>\n",
              "  <th>Df Residuals:</th>          <td>  5989</td>      <th>  BIC:               </th> <td>   7138.</td> \n",
              "</tr>\n",
              "<tr>\n",
              "  <th>Df Model:</th>              <td>    10</td>      <th>                     </th>     <td> </td>    \n",
              "</tr>\n",
              "<tr>\n",
              "  <th>Covariance Type:</th>      <td>nonrobust</td>    <th>                     </th>     <td> </td>    \n",
              "</tr>\n",
              "</table>\n",
              "<table class=\"simpletable\">\n",
              "<tr>\n",
              "        <td></td>           <th>coef</th>     <th>std err</th>      <th>t</th>      <th>P>|t|</th>  <th>[0.025</th>    <th>0.975]</th>  \n",
              "</tr>\n",
              "<tr>\n",
              "  <th>alt_1</th>         <td>    0.0416</td> <td>    0.008</td> <td>    5.190</td> <td> 0.000</td> <td>    0.026</td> <td>    0.057</td>\n",
              "</tr>\n",
              "<tr>\n",
              "  <th>alt_2</th>         <td>    0.0404</td> <td>    0.008</td> <td>    5.041</td> <td> 0.000</td> <td>    0.025</td> <td>    0.056</td>\n",
              "</tr>\n",
              "<tr>\n",
              "  <th>alt_3</th>         <td>    0.0605</td> <td>    0.008</td> <td>    7.545</td> <td> 0.000</td> <td>    0.045</td> <td>    0.076</td>\n",
              "</tr>\n",
              "<tr>\n",
              "  <th>segment_basic</th> <td>    0.0475</td> <td>    0.008</td> <td>    6.141</td> <td> 0.000</td> <td>    0.032</td> <td>    0.063</td>\n",
              "</tr>\n",
              "<tr>\n",
              "  <th>segment_fun</th>   <td>    0.0474</td> <td>    0.010</td> <td>    4.949</td> <td> 0.000</td> <td>    0.029</td> <td>    0.066</td>\n",
              "</tr>\n",
              "<tr>\n",
              "  <th>segment_racer</th> <td>    0.0476</td> <td>    0.013</td> <td>    3.677</td> <td> 0.000</td> <td>    0.022</td> <td>    0.073</td>\n",
              "</tr>\n",
              "<tr>\n",
              "  <th>seat_2</th>        <td>    0.0182</td> <td>    0.008</td> <td>    2.279</td> <td> 0.023</td> <td>    0.003</td> <td>    0.034</td>\n",
              "</tr>\n",
              "<tr>\n",
              "  <th>seat_4</th>        <td>    0.0219</td> <td>    0.008</td> <td>    2.729</td> <td> 0.006</td> <td>    0.006</td> <td>    0.038</td>\n",
              "</tr>\n",
              "<tr>\n",
              "  <th>seat_5</th>        <td>    0.1025</td> <td>    0.008</td> <td>   12.730</td> <td> 0.000</td> <td>    0.087</td> <td>    0.118</td>\n",
              "</tr>\n",
              "<tr>\n",
              "  <th>trans_auto</th>    <td>    0.1795</td> <td>    0.006</td> <td>   30.821</td> <td> 0.000</td> <td>    0.168</td> <td>    0.191</td>\n",
              "</tr>\n",
              "<tr>\n",
              "  <th>trans_manual</th>  <td>   -0.0369</td> <td>    0.006</td> <td>   -6.313</td> <td> 0.000</td> <td>   -0.048</td> <td>   -0.025</td>\n",
              "</tr>\n",
              "<tr>\n",
              "  <th>convert_no</th>    <td>    0.0523</td> <td>    0.006</td> <td>    8.964</td> <td> 0.000</td> <td>    0.041</td> <td>    0.064</td>\n",
              "</tr>\n",
              "<tr>\n",
              "  <th>convert_yes</th>   <td>    0.0903</td> <td>    0.006</td> <td>   15.471</td> <td> 0.000</td> <td>    0.079</td> <td>    0.102</td>\n",
              "</tr>\n",
              "<tr>\n",
              "  <th>price_30</th>      <td>    0.2168</td> <td>    0.008</td> <td>   27.049</td> <td> 0.000</td> <td>    0.201</td> <td>    0.232</td>\n",
              "</tr>\n",
              "<tr>\n",
              "  <th>price_35</th>      <td>    0.0467</td> <td>    0.008</td> <td>    5.830</td> <td> 0.000</td> <td>    0.031</td> <td>    0.062</td>\n",
              "</tr>\n",
              "<tr>\n",
              "  <th>price_40</th>      <td>   -0.1209</td> <td>    0.008</td> <td>  -15.024</td> <td> 0.000</td> <td>   -0.137</td> <td>   -0.105</td>\n",
              "</tr>\n",
              "</table>\n",
              "<table class=\"simpletable\">\n",
              "<tr>\n",
              "  <th>Omnibus:</th>       <td>2263.070</td> <th>  Durbin-Watson:     </th> <td>   2.540</td> \n",
              "</tr>\n",
              "<tr>\n",
              "  <th>Prob(Omnibus):</th>  <td> 0.000</td>  <th>  Jarque-Bera (JB):  </th> <td> 574.939</td> \n",
              "</tr>\n",
              "<tr>\n",
              "  <th>Skew:</th>           <td> 0.538</td>  <th>  Prob(JB):          </th> <td>1.42e-125</td>\n",
              "</tr>\n",
              "<tr>\n",
              "  <th>Kurtosis:</th>       <td> 1.931</td>  <th>  Cond. No.          </th> <td>1.24e+16</td> \n",
              "</tr>\n",
              "</table><br/><br/>Warnings:<br/>[1] Standard Errors assume that the covariance matrix of the errors is correctly specified.<br/>[2] The smallest eigenvalue is 9.81e-29. This might indicate that there are<br/>strong multicollinearity problems or that the design matrix is singular."
            ],
            "text/plain": [
              "<class 'statsmodels.iolib.summary.Summary'>\n",
              "\"\"\"\n",
              "                            OLS Regression Results                            \n",
              "==============================================================================\n",
              "Dep. Variable:                 choice   R-squared:                       0.148\n",
              "Model:                            OLS   Adj. R-squared:                  0.147\n",
              "Method:                 Least Squares   F-statistic:                     104.0\n",
              "Date:                Fri, 30 Apr 2021   Prob (F-statistic):          8.74e-200\n",
              "Time:                        10:54:02   Log-Likelihood:                -3521.0\n",
              "No. Observations:                6000   AIC:                             7064.\n",
              "Df Residuals:                    5989   BIC:                             7138.\n",
              "Df Model:                          10                                         \n",
              "Covariance Type:            nonrobust                                         \n",
              "=================================================================================\n",
              "                    coef    std err          t      P>|t|      [0.025      0.975]\n",
              "---------------------------------------------------------------------------------\n",
              "alt_1             0.0416      0.008      5.190      0.000       0.026       0.057\n",
              "alt_2             0.0404      0.008      5.041      0.000       0.025       0.056\n",
              "alt_3             0.0605      0.008      7.545      0.000       0.045       0.076\n",
              "segment_basic     0.0475      0.008      6.141      0.000       0.032       0.063\n",
              "segment_fun       0.0474      0.010      4.949      0.000       0.029       0.066\n",
              "segment_racer     0.0476      0.013      3.677      0.000       0.022       0.073\n",
              "seat_2            0.0182      0.008      2.279      0.023       0.003       0.034\n",
              "seat_4            0.0219      0.008      2.729      0.006       0.006       0.038\n",
              "seat_5            0.1025      0.008     12.730      0.000       0.087       0.118\n",
              "trans_auto        0.1795      0.006     30.821      0.000       0.168       0.191\n",
              "trans_manual     -0.0369      0.006     -6.313      0.000      -0.048      -0.025\n",
              "convert_no        0.0523      0.006      8.964      0.000       0.041       0.064\n",
              "convert_yes       0.0903      0.006     15.471      0.000       0.079       0.102\n",
              "price_30          0.2168      0.008     27.049      0.000       0.201       0.232\n",
              "price_35          0.0467      0.008      5.830      0.000       0.031       0.062\n",
              "price_40         -0.1209      0.008    -15.024      0.000      -0.137      -0.105\n",
              "==============================================================================\n",
              "Omnibus:                     2263.070   Durbin-Watson:                   2.540\n",
              "Prob(Omnibus):                  0.000   Jarque-Bera (JB):              574.939\n",
              "Skew:                           0.538   Prob(JB):                    1.42e-125\n",
              "Kurtosis:                       1.931   Cond. No.                     1.24e+16\n",
              "==============================================================================\n",
              "\n",
              "Warnings:\n",
              "[1] Standard Errors assume that the covariance matrix of the errors is correctly specified.\n",
              "[2] The smallest eigenvalue is 9.81e-29. This might indicate that there are\n",
              "strong multicollinearity problems or that the design matrix is singular.\n",
              "\"\"\""
            ]
          },
          "metadata": {
            "tags": []
          },
          "execution_count": 37
        }
      ]
    },
    {
      "cell_type": "code",
      "metadata": {
        "id": "Lqkzd9dzZy6C"
      },
      "source": [
        "df_res = pd.DataFrame({\n",
        "    'param_name': res.params.keys()\n",
        "    , 'param_w': res.params.values\n",
        "    , 'pval': res.pvalues\n",
        "})"
      ],
      "execution_count": 38,
      "outputs": []
    },
    {
      "cell_type": "code",
      "metadata": {
        "id": "6nt9K4JOZ_gO"
      },
      "source": [
        "df_res['abs_param_w'] = np.abs(df_res['param_w'])\n",
        "# marking field is significant under 95% confidence interval\n",
        "df_res['is_sig_95'] = (df_res['pval'] < 0.05)\n",
        "# constructing color naming for each param\n",
        "df_res['c'] = ['blue' if x else 'red' for x in df_res['is_sig_95']]"
      ],
      "execution_count": 39,
      "outputs": []
    },
    {
      "cell_type": "code",
      "metadata": {
        "colab": {
          "base_uri": "https://localhost:8080/",
          "height": 204
        },
        "id": "npQLmEOgaEte",
        "outputId": "6f0a56fc-d9ff-4a97-9194-a3749c56a946"
      },
      "source": [
        "df_res.head()"
      ],
      "execution_count": 40,
      "outputs": [
        {
          "output_type": "execute_result",
          "data": {
            "text/html": [
              "<div>\n",
              "<style scoped>\n",
              "    .dataframe tbody tr th:only-of-type {\n",
              "        vertical-align: middle;\n",
              "    }\n",
              "\n",
              "    .dataframe tbody tr th {\n",
              "        vertical-align: top;\n",
              "    }\n",
              "\n",
              "    .dataframe thead th {\n",
              "        text-align: right;\n",
              "    }\n",
              "</style>\n",
              "<table border=\"1\" class=\"dataframe\">\n",
              "  <thead>\n",
              "    <tr style=\"text-align: right;\">\n",
              "      <th></th>\n",
              "      <th>param_name</th>\n",
              "      <th>param_w</th>\n",
              "      <th>pval</th>\n",
              "      <th>abs_param_w</th>\n",
              "      <th>is_sig_95</th>\n",
              "      <th>c</th>\n",
              "    </tr>\n",
              "  </thead>\n",
              "  <tbody>\n",
              "    <tr>\n",
              "      <th>alt_1</th>\n",
              "      <td>alt_1</td>\n",
              "      <td>0.041644</td>\n",
              "      <td>2.167738e-07</td>\n",
              "      <td>0.041644</td>\n",
              "      <td>True</td>\n",
              "      <td>blue</td>\n",
              "    </tr>\n",
              "    <tr>\n",
              "      <th>alt_2</th>\n",
              "      <td>alt_2</td>\n",
              "      <td>0.040442</td>\n",
              "      <td>4.756949e-07</td>\n",
              "      <td>0.040442</td>\n",
              "      <td>True</td>\n",
              "      <td>blue</td>\n",
              "    </tr>\n",
              "    <tr>\n",
              "      <th>alt_3</th>\n",
              "      <td>alt_3</td>\n",
              "      <td>0.060518</td>\n",
              "      <td>5.181195e-14</td>\n",
              "      <td>0.060518</td>\n",
              "      <td>True</td>\n",
              "      <td>blue</td>\n",
              "    </tr>\n",
              "    <tr>\n",
              "      <th>segment_basic</th>\n",
              "      <td>segment_basic</td>\n",
              "      <td>0.047534</td>\n",
              "      <td>8.741713e-10</td>\n",
              "      <td>0.047534</td>\n",
              "      <td>True</td>\n",
              "      <td>blue</td>\n",
              "    </tr>\n",
              "    <tr>\n",
              "      <th>segment_fun</th>\n",
              "      <td>segment_fun</td>\n",
              "      <td>0.047440</td>\n",
              "      <td>7.662867e-07</td>\n",
              "      <td>0.047440</td>\n",
              "      <td>True</td>\n",
              "      <td>blue</td>\n",
              "    </tr>\n",
              "  </tbody>\n",
              "</table>\n",
              "</div>"
            ],
            "text/plain": [
              "                  param_name   param_w  ...  is_sig_95     c\n",
              "alt_1                  alt_1  0.041644  ...       True  blue\n",
              "alt_2                  alt_2  0.040442  ...       True  blue\n",
              "alt_3                  alt_3  0.060518  ...       True  blue\n",
              "segment_basic  segment_basic  0.047534  ...       True  blue\n",
              "segment_fun      segment_fun  0.047440  ...       True  blue\n",
              "\n",
              "[5 rows x 6 columns]"
            ]
          },
          "metadata": {
            "tags": []
          },
          "execution_count": 40
        }
      ]
    },
    {
      "cell_type": "code",
      "metadata": {
        "id": "ehsUA1c5aHrx"
      },
      "source": [
        "# make it sorted by abs of parameter value\n",
        "df_res = df_res.sort_values(by='abs_param_w', ascending=True)"
      ],
      "execution_count": 41,
      "outputs": []
    },
    {
      "cell_type": "code",
      "metadata": {
        "colab": {
          "base_uri": "https://localhost:8080/",
          "height": 499
        },
        "id": "OfbwsQRiaK7h",
        "outputId": "9d89cdd7-ede2-415f-e542-8ab9af4d9a4b"
      },
      "source": [
        "f, ax = plt.subplots(figsize=(14, 8))\n",
        "plt.title('Part Worth')\n",
        "pwu = df_res['param_w']\n",
        "xbar = np.arange(len(pwu))\n",
        "plt.barh(xbar, pwu, color=df_res['c'])\n",
        "plt.yticks(xbar, labels=df_res['param_name'])\n",
        "plt.show()"
      ],
      "execution_count": 42,
      "outputs": [
        {
          "output_type": "display_data",
          "data": {
            "image/png": "[encoded data removed]",
            "text/plain": [
              "<Figure size 1008x576 with 1 Axes>"
            ]
          },
          "metadata": {
            "tags": [],
            "needs_background": "light"
          }
        }
      ]
    },
    {
      "cell_type": "code",
      "metadata": {
        "id": "RKbqNRRNaPCx"
      },
      "source": [
        "# need to assemble per attribute for every level of that attribute in dicionary\n",
        "range_per_feature = dict()\n",
        "for key, coeff in res.params.items():\n",
        "    sk =  key.split('_')\n",
        "    feature = sk[0]\n",
        "    if len(sk) == 1:\n",
        "        feature = key\n",
        "    if feature not in range_per_feature:\n",
        "        range_per_feature[feature] = list()\n",
        "        \n",
        "    range_per_feature[feature].append(coeff)"
      ],
      "execution_count": 43,
      "outputs": []
    },
    {
      "cell_type": "code",
      "metadata": {
        "id": "C4m74fCSaV95"
      },
      "source": [
        "# importance per feature is range of coef in a feature\n",
        "# while range is simply max(x) - min(x)\n",
        "importance_per_feature = {\n",
        "    k: max(v) - min(v) for k, v in range_per_feature.items()\n",
        "}"
      ],
      "execution_count": 44,
      "outputs": []
    },
    {
      "cell_type": "code",
      "metadata": {
        "colab": {
          "base_uri": "https://localhost:8080/",
          "height": 513
        },
        "id": "MDVRMNriaXj5",
        "outputId": "4266eb9b-37bf-47d3-b637-514d056afb83"
      },
      "source": [
        "alt_data = pd.DataFrame(\n",
        "    list(importance_per_feature.items()), \n",
        "    columns=['attr', 'importance']\n",
        ").sort_values(by='importance', ascending=False)\n",
        "\n",
        "\n",
        "f, ax = plt.subplots(figsize=(12, 8))\n",
        "xbar = np.arange(len(alt_data['attr']))\n",
        "plt.title('Importance')\n",
        "plt.barh(xbar, alt_data['importance'])\n",
        "for i, v in enumerate(alt_data['importance']):\n",
        "    ax.text(v , i + .25, '{:.2f}'.format(v))\n",
        "plt.ylabel('attributes')\n",
        "plt.xlabel('% importance')\n",
        "plt.yticks(xbar, alt_data['attr'])\n",
        "plt.show()"
      ],
      "execution_count": 45,
      "outputs": [
        {
          "output_type": "display_data",
          "data": {
            "image/png": "[encoded data removed]",
            "text/plain": [
              "<Figure size 864x576 with 1 Axes>"
            ]
          },
          "metadata": {
            "tags": [],
            "needs_background": "light"
          }
        }
      ]
    },
    {
      "cell_type": "code",
      "metadata": {
        "id": "dTKCgtogaZZh"
      },
      "source": [
        ""
      ],
      "execution_count": null,
      "outputs": []
    }
  ]
}